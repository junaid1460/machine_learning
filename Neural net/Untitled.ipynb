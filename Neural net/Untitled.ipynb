{
 "cells": [
  {
   "cell_type": "code",
   "execution_count": 8,
   "metadata": {
    "collapsed": true
   },
   "outputs": [],
   "source": [
    "# "
   ]
  },
  {
   "cell_type": "code",
   "execution_count": 64,
   "metadata": {},
   "outputs": [
    {
     "name": "stdout",
     "output_type": "stream",
     "text": [
      "790.0 31.0\n",
      "116.0 12.0\n",
      "13.0 4.0\n",
      "1.0 1.0\n",
      "686\n",
      "4208.0 1.0\n"
     ]
    }
   ],
   "source": [
    "import math\n",
    "n = 77\n",
    "\n",
    "t = (n * 0.4141) // 1\n",
    "val = n * (n + 1) / 2 + n * t - (t * (t  + 1) /2)\n",
    "n = t\n",
    "t = (n * 0.4141) // 1\n",
    "nval = n * (n + 1) / 2 + n * t - (t * (t  + 1) /2)\n",
    "print(nval, n)\n",
    "n = t\n",
    "t = (n * 0.4141) // 1\n",
    "nval = n * (n + 1) / 2 + n * t - (t * (t  + 1) /2)\n",
    "print(nval, n)\n",
    "n = t\n",
    "t = (n * 0.4141) // 1\n",
    "nval = n * (n + 1) / 2 + n * t - (t * (t  + 1) /2)\n",
    "print(nval, n)\n",
    "n = t\n",
    "t = (n * 0.4141) // 1\n",
    "nval = n * (n + 1) / 2 + n * t - (t * (t  + 1) /2)\n",
    "print(nval, n)\n",
    "print( 790 - 116 + 13 - 1 )\n",
    "print(val - 686, n)"
   ]
  },
  {
   "cell_type": "code",
   "execution_count": null,
   "metadata": {},
   "outputs": [],
   "source": []
  }
 ],
 "metadata": {
  "kernelspec": {
   "display_name": "Python 3",
   "language": "python",
   "name": "python3"
  },
  "language_info": {
   "codemirror_mode": {
    "name": "ipython",
    "version": 3
   },
   "file_extension": ".py",
   "mimetype": "text/x-python",
   "name": "python",
   "nbconvert_exporter": "python",
   "pygments_lexer": "ipython3",
   "version": "3.5.2"
  }
 },
 "nbformat": 4,
 "nbformat_minor": 2
}
