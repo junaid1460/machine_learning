{
 "cells": [
  {
   "cell_type": "code",
   "execution_count": 8,
   "metadata": {
    "collapsed": true
   },
   "outputs": [],
   "source": [
    "import matplotlib.image as pimg\n",
    "import numpy as np\n",
    "import matplotlib.pyplot as plt"
   ]
  },
  {
   "cell_type": "code",
   "execution_count": 5,
   "metadata": {},
   "outputs": [],
   "source": [
    "pic = pimg.imread('input.gif')"
   ]
  },
  {
   "cell_type": "code",
   "execution_count": 9,
   "metadata": {},
   "outputs": [
    {
     "data": {
      "image/png": "[encoded data removed]",
      "text/plain": [
       "<matplotlib.figure.Figure at 0x7ff9f4066f98>"
      ]
     },
     "metadata": {},
     "output_type": "display_data"
    }
   ],
   "source": [
    "plt.imshow(pic)\n",
    "plt.show()"
   ]
  },
  {
   "cell_type": "code",
   "execution_count": null,
   "metadata": {
    "collapsed": true
   },
   "outputs": [],
   "source": [
    "filt= [\n",
    "    [-1,-1,-1]\n",
    "    [-1,1,-1]\n",
    "    [-1,-1,-1]\n",
    "]\n",
    "\n",
    "def crop(img, x = 0, y = 0, width = None, height = None):\n",
    "    out = []\n",
    "    if width is None:\n",
    "        width = len(img[0])\n",
    "    if height is None:\n",
    "        height = len(img)\n",
    "    for i in range(height):\n",
    "        out.append([])\n",
    "        for j in range(width):\n",
    "            out[i].append(img[i+y][j+x])\n",
    "    return np.array(out)\n",
    "def dot(mat1, mat2 , depth = 1):\n",
    "    out = [None for i in range(depth)]\n",
    "def applly_filter( filt, pic = [[]]):\n",
    "    height = len(pic)\n",
    "    width = len(pic[0])\n",
    "    sub = len(filt)\n",
    "    out = []\n",
    "    for i in range(height - sub + 1):\n",
    "        new = []\n",
    "        for j in range(width - sub + 1):\n",
    "            \n",
    "    \n",
    "    \n"
   ]
  }
 ],
 "metadata": {
  "kernelspec": {
   "display_name": "Python 3",
   "language": "python",
   "name": "python3"
  },
  "language_info": {
   "codemirror_mode": {
    "name": "ipython",
    "version": 3
   },
   "file_extension": ".py",
   "mimetype": "text/x-python",
   "name": "python",
   "nbconvert_exporter": "python",
   "pygments_lexer": "ipython3",
   "version": "3.5.2"
  }
 },
 "nbformat": 4,
 "nbformat_minor": 2
}
