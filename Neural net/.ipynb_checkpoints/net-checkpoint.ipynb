{
 "cells": [
  {
   "cell_type": "code",
   "execution_count": 1,
   "metadata": {
    "collapsed": true
   },
   "outputs": [],
   "source": [
    "import numpy as np\n",
    "import matplotlib.pyplot as plt"
   ]
  },
  {
   "cell_type": "code",
   "execution_count": 5,
   "metadata": {},
   "outputs": [],
   "source": [
    "def sigmoid(x, d = False):\n",
    "    if d == True:\n",
    "        return x * (1 - x)\n",
    "    return 1 / (1 - np.exp(-x))"
   ]
  },
  {
   "cell_type": "code",
   "execution_count": 16,
   "metadata": {},
   "outputs": [
    {
     "name": "stdout",
     "output_type": "stream",
     "text": [
      "[[-0.16595599]\n",
      " [ 0.44064899]\n",
      " [-0.99977125]\n",
      " [-0.39533485]]\n",
      "Result\n",
      "[[ 1.]\n",
      " [ 1.]\n",
      " [ 1.]\n",
      " [ 1.]]\n"
     ]
    }
   ],
   "source": [
    "x = np.array([[0,0,1],[0,1,1],[1,0,1],[1,1,1]])\n",
    "\n",
    "y = np.array([[0,0,1,1]]).T\n",
    "\n",
    "np.random.seed(1)\n",
    "\n",
    "w = 2 * np.random.random((4, 1)) - 1\n",
    "\n",
    "print(w)\n",
    "\n",
    "for i in range(100000):\n",
    "    level_0 = x\n",
    "    level_1 = sigmoid(np.dot(level_0, w))\n",
    "    \n",
    "    #calculate error.. \n",
    "    level_1_error = y - level_1\n",
    "    \n",
    "    #calculate the correction to weights\n",
    "    delta_l1 = level_1_error * sigmoid(level_1, True)\n",
    "    \n",
    "    w += np.dot(level_0.T, delta_l1)\n",
    "    \n",
    "print(\"Result\")\n",
    "print(level_1)"
   ]
  }
 ],
 "metadata": {
  "kernelspec": {
   "display_name": "Python 3",
   "language": "python",
   "name": "python3"
  },
  "language_info": {
   "codemirror_mode": {
    "name": "ipython",
    "version": 3
   },
   "file_extension": ".py",
   "mimetype": "text/x-python",
   "name": "python",
   "nbconvert_exporter": "python",
   "pygments_lexer": "ipython3",
   "version": "3.5.2"
  }
 },
 "nbformat": 4,
 "nbformat_minor": 2
}
